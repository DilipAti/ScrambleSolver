{
 "cells": [
  {
   "cell_type": "markdown",
   "metadata": {},
   "source": [
    "## README - SCRAMBLE SOLVER\n",
    "\n",
    "**This is a readme file for the Scamble Solver.**\n",
    "\n",
    "### Purpose:\n",
    "This android application is used to solve the 4 word scramble puzzles we get in news-papers.\n",
    "\n",
    "**Input:** 4 scrambled words\n",
    "**Output:** Every possible dictionary word of the given scrambled characters.\n",
    "\n",
    "A typical game layout looks like this:\n",
    "<img src=image.jpg width=300 height>\n",
    "\n",
    "Now using the app, we can solve the jumble.\n",
    "\n",
    "<img src=solution.jpg width=300 height=700>\n",
    "\n",
    "References: \"http://blog.al.com/live/2012/07/unscramble_todays_jumble_for_a.html\" for the image."
   ]
  },
  {
   "cell_type": "code",
   "execution_count": null,
   "metadata": {},
   "outputs": [],
   "source": []
  }
 ],
 "metadata": {
  "kernelspec": {
   "display_name": "Python 3",
   "language": "python",
   "name": "python3"
  },
  "language_info": {
   "codemirror_mode": {
    "name": "ipython",
    "version": 3
   },
   "file_extension": ".py",
   "mimetype": "text/x-python",
   "name": "python",
   "nbconvert_exporter": "python",
   "pygments_lexer": "ipython3",
   "version": "3.6.1"
  }
 },
 "nbformat": 4,
 "nbformat_minor": 2
}
